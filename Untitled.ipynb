{
 "cells": [
  {
   "cell_type": "markdown",
   "id": "4103cd42-e482-4698-a199-628816368f3f",
   "metadata": {},
   "source": [
    "## COMPARING TIME OVER MATRIX SIZE GROWTH"
   ]
  },
  {
   "cell_type": "markdown",
   "id": "f8582e41-4d9d-4658-b9ed-29abb2b2141e",
   "metadata": {},
   "source": [
    "*importing libraries*"
   ]
  },
  {
   "cell_type": "code",
   "execution_count": 8,
   "id": "7b3c1c7d-b8cb-408d-8cfd-0ebfa63c200f",
   "metadata": {},
   "outputs": [],
   "source": [
    "import numpy as np\n",
    "import alphatensoralgos as at\n",
    "from datetime import datetime\n",
    "import pandas as pd\n",
    "import seaborn as sns\n",
    "import altair as alt"
   ]
  },
  {
   "cell_type": "markdown",
   "id": "00417a81-61a2-48c0-baea-3124da032f02",
   "metadata": {},
   "source": [
    "*Set dataset of numbers to test*"
   ]
  },
  {
   "cell_type": "code",
   "execution_count": 9,
   "id": "ef97931e-ee5e-4bfe-a698-3c158708a260",
   "metadata": {},
   "outputs": [],
   "source": [
    "#log2 = 8 to 14\n",
    "\n",
    "#ONLY FOR BINARY ARRAY\n",
    "#log4 = 1 to 5\n",
    "\n",
    "#log5 = 1 to 5\n",
    "\n",
    "two = 2 ** np.arange(8,15)\n",
    "four = 4 ** np.arange(1,6)\n",
    "five = 5 ** np.arange(1,6)\n",
    "\n",
    "Fours = []\n",
    "Fives = []\n",
    "\n",
    "for i in two:\n",
    "    fours = []\n",
    "    for j in four:\n",
    "        fours.append(i*j)\n",
    "    Fours.append(fours)\n",
    "\n",
    "    fives = []\n",
    "    for j in five:\n",
    "        fives.append(i*j)\n",
    "    Fives.append(fives)"
   ]
  },
  {
   "cell_type": "markdown",
   "id": "a9503198-ea0d-4e19-869b-8c505787e346",
   "metadata": {},
   "source": [
    "*Start time testing*"
   ]
  },
  {
   "cell_type": "code",
   "execution_count": 7,
   "id": "6a3560e5-bf0e-48ca-bb57-5be6ea5d313e",
   "metadata": {},
   "outputs": [
    {
     "ename": "SyntaxError",
     "evalue": "expected ':' (3197623370.py, line 11)",
     "output_type": "error",
     "traceback": [
      "\u001b[1;36m  Cell \u001b[1;32mIn[7], line 11\u001b[1;36m\u001b[0m\n\u001b[1;33m    for j in Fours[i]\u001b[0m\n\u001b[1;37m                     ^\u001b[0m\n\u001b[1;31mSyntaxError\u001b[0m\u001b[1;31m:\u001b[0m expected ':'\n"
     ]
    }
   ],
   "source": [
    "timeFour = []\n",
    "timeFive = []\n",
    "timeFourNaive = []\n",
    "timeFiveNaive = []\n",
    "timeFourStrassen = []\n",
    "timeFiveStrassen = []\n",
    "\n",
    "for i in Fours:\n",
    "    timefours = []\n",
    "    timefoursnaive = []\n",
    "    timefoursStr\n",
    "    for j in Fours[i]\n",
    "        #create matrixes\n",
    "        x = np.random.randint(0,5,size=(j,j))\n",
    "        y = np.random.randint(0,5,size=(j,j))\n",
    "        \n",
    "        #run code for alphatensor\n",
    "        cur = datetime.now()\n",
    "        multdecide(x,y,True)\n",
    "        delta = datetime.now - cur\n",
    "        timefours.append(delta)\n",
    "        \n",
    "        #run regular strassen\n",
    "        cur = datetime.now()\n",
    "        strassenInit(x,y,True)\n",
    "        delta = datetime.now - cur\n",
    "        timefoursStr.append(delta)\n",
    "\n",
    "        #run regular naive\n",
    "        cur = datetime.now()\n",
    "        naiveSquare(x,y)\n",
    "        delta = datetime.now - cur\n",
    "        timefoursnaive.append(delta)\n",
    "        \n",
    "    #append new values as sublists\n",
    "    timeFourNaive.append(timesfournaive)\n",
    "    timeFourStr.append(timesfourStr)\n",
    "    timeFour.append(timefours)\n",
    "\n",
    "    #do same for fives\n",
    "    timefives = []\n",
    "    timefivesStr = []\n",
    "    timefivesnaive=[]\n",
    "    \n",
    "    for j in Fives[i]\n",
    "        #create matrixes\n",
    "        x = np.random.randint(0,5,size=(j,j))\n",
    "        y = np.random.randint(0,5,size=(j,j))\n",
    "        \n",
    "        #run code for alphatensor\n",
    "        cur = datetime.now()\n",
    "        multdecide(x,y,False)\n",
    "        delta = datetime.now - cur\n",
    "        timefives.append(delta)\n",
    "        \n",
    "        #run regular strassen\n",
    "        cur = datetime.now()\n",
    "        strassenInit(x,y,False)\n",
    "        delta = datetime.now - cur\n",
    "        timefivesStr.append(delta)\n",
    "\n",
    "        #run regular naive\n",
    "        cur = datetime.now()\n",
    "        x @ y\n",
    "        delta = datetime.now - cur\n",
    "        timefivesnaive.append(delta)\n"
   ]
  },
  {
   "cell_type": "markdown",
   "id": "f8c7956e-165c-4eb4-b5f6-86d1674f9174",
   "metadata": {},
   "source": [
    "*Create dataframe to graph* TO DO LATER"
   ]
  }
 ],
 "metadata": {
  "kernelspec": {
   "display_name": "Python 3 (ipykernel)",
   "language": "python",
   "name": "python3"
  },
  "language_info": {
   "codemirror_mode": {
    "name": "ipython",
    "version": 3
   },
   "file_extension": ".py",
   "mimetype": "text/x-python",
   "name": "python",
   "nbconvert_exporter": "python",
   "pygments_lexer": "ipython3",
   "version": "3.12.1"
  }
 },
 "nbformat": 4,
 "nbformat_minor": 5
}
