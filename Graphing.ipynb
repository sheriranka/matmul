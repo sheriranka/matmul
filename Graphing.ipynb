{
 "cells": [
  {
   "cell_type": "markdown",
   "id": "8adad97a-886f-4ab7-aafc-4bb88249b0fe",
   "metadata": {},
   "source": [
    "## COMPARING TIME OVER MATRIX SIZE GROWTH - VISUALIZE"
   ]
  },
  {
   "cell_type": "markdown",
   "id": "d9e867f5-9af6-48db-b350-93b6ec6d6495",
   "metadata": {},
   "source": [
    "*import libraries*"
   ]
  },
  {
   "cell_type": "code",
   "execution_count": 1,
   "id": "fd2d5c6a-b75e-4871-aced-7324c63a0d37",
   "metadata": {},
   "outputs": [],
   "source": [
    "import pandas as pd\n",
    "import altair as alt"
   ]
  },
  {
   "cell_type": "markdown",
   "id": "1e5a9e57-032e-4fcd-a7ff-1af9745c8515",
   "metadata": {},
   "source": [
    "*read datasets*"
   ]
  },
  {
   "cell_type": "code",
   "execution_count": 2,
   "id": "15521c07-441f-490c-827a-d98b81454458",
   "metadata": {},
   "outputs": [],
   "source": [
    "df4 = pd.read_csv(\"log4.csv\")\n",
    "df5 = pd.read_csv(\"log5.csv\")"
   ]
  },
  {
   "cell_type": "markdown",
   "id": "40d4b0da-2b29-4e35-bf00-4961f1c51947",
   "metadata": {},
   "source": [
    "*Convert to long form data*"
   ]
  },
  {
   "cell_type": "code",
   "execution_count": 3,
   "id": "3940c846-80c5-4802-8ab0-393b1ae03085",
   "metadata": {},
   "outputs": [],
   "source": [
    "df4 = df4.melt(id_vars=['log4','log2'])\n",
    "df5 = df5.melt(id_vars=['log5','log2'])"
   ]
  },
  {
   "cell_type": "markdown",
   "id": "e8647e66-82b5-4380-bf90-d436c67a642d",
   "metadata": {},
   "source": [
    "### PLOTS"
   ]
  },
  {
   "cell_type": "markdown",
   "id": "0bf9e90b-7edf-4b84-96e1-e926edc0348a",
   "metadata": {},
   "source": [
    "*Log4*"
   ]
  },
  {
   "cell_type": "code",
   "execution_count": 7,
   "id": "b8ef1fb3-f85f-454b-8d37-cc4d3d2856c7",
   "metadata": {},
   "outputs": [
    {
     "data": {
      "text/html": [
       "\n",
       "<style>\n",
       "  #altair-viz-5e1596b2573e42b383b251a92bdd6a66.vega-embed {\n",
       "    width: 100%;\n",
       "    display: flex;\n",
       "  }\n",
       "\n",
       "  #altair-viz-5e1596b2573e42b383b251a92bdd6a66.vega-embed details,\n",
       "  #altair-viz-5e1596b2573e42b383b251a92bdd6a66.vega-embed details summary {\n",
       "    position: relative;\n",
       "  }\n",
       "</style>\n",
       "<div id=\"altair-viz-5e1596b2573e42b383b251a92bdd6a66\"></div>\n",
       "<script type=\"text/javascript\">\n",
       "  var VEGA_DEBUG = (typeof VEGA_DEBUG == \"undefined\") ? {} : VEGA_DEBUG;\n",
       "  (function(spec, embedOpt){\n",
       "    let outputDiv = document.currentScript.previousElementSibling;\n",
       "    if (outputDiv.id !== \"altair-viz-5e1596b2573e42b383b251a92bdd6a66\") {\n",
       "      outputDiv = document.getElementById(\"altair-viz-5e1596b2573e42b383b251a92bdd6a66\");\n",
       "    }\n",
       "    const paths = {\n",
       "      \"vega\": \"https://cdn.jsdelivr.net/npm/vega@5?noext\",\n",
       "      \"vega-lib\": \"https://cdn.jsdelivr.net/npm/vega-lib?noext\",\n",
       "      \"vega-lite\": \"https://cdn.jsdelivr.net/npm/vega-lite@5.16.3?noext\",\n",
       "      \"vega-embed\": \"https://cdn.jsdelivr.net/npm/vega-embed@6?noext\",\n",
       "    };\n",
       "\n",
       "    function maybeLoadScript(lib, version) {\n",
       "      var key = `${lib.replace(\"-\", \"\")}_version`;\n",
       "      return (VEGA_DEBUG[key] == version) ?\n",
       "        Promise.resolve(paths[lib]) :\n",
       "        new Promise(function(resolve, reject) {\n",
       "          var s = document.createElement('script');\n",
       "          document.getElementsByTagName(\"head\")[0].appendChild(s);\n",
       "          s.async = true;\n",
       "          s.onload = () => {\n",
       "            VEGA_DEBUG[key] = version;\n",
       "            return resolve(paths[lib]);\n",
       "          };\n",
       "          s.onerror = () => reject(`Error loading script: ${paths[lib]}`);\n",
       "          s.src = paths[lib];\n",
       "        });\n",
       "    }\n",
       "\n",
       "    function showError(err) {\n",
       "      outputDiv.innerHTML = `<div class=\"error\" style=\"color:red;\">${err}</div>`;\n",
       "      throw err;\n",
       "    }\n",
       "\n",
       "    function displayChart(vegaEmbed) {\n",
       "      vegaEmbed(outputDiv, spec, embedOpt)\n",
       "        .catch(err => showError(`Javascript Error: ${err.message}<br>This usually means there's a typo in your chart specification. See the javascript console for the full traceback.`));\n",
       "    }\n",
       "\n",
       "    if(typeof define === \"function\" && define.amd) {\n",
       "      requirejs.config({paths});\n",
       "      require([\"vega-embed\"], displayChart, err => showError(`Error loading script: ${err.message}`));\n",
       "    } else {\n",
       "      maybeLoadScript(\"vega\", \"5\")\n",
       "        .then(() => maybeLoadScript(\"vega-lite\", \"5.16.3\"))\n",
       "        .then(() => maybeLoadScript(\"vega-embed\", \"6\"))\n",
       "        .catch(showError)\n",
       "        .then(() => displayChart(vegaEmbed));\n",
       "    }\n",
       "  })({\"config\": {\"view\": {\"continuousWidth\": 300, \"continuousHeight\": 300}}, \"data\": {\"name\": \"data-07e3bf9c4a12b4d2ab7e0318decbe76b\"}, \"facet\": {\"field\": \"log4\", \"type\": \"nominal\"}, \"spec\": {\"layer\": [{\"mark\": {\"type\": \"line\", \"point\": true}, \"encoding\": {\"color\": {\"field\": \"variable\", \"type\": \"nominal\"}, \"tooltip\": [{\"field\": \"log2\", \"type\": \"quantitative\"}, {\"field\": \"value\", \"type\": \"quantitative\"}, {\"field\": \"variable\", \"type\": \"nominal\"}], \"x\": {\"field\": \"log2\", \"scale\": {\"zero\": false}, \"type\": \"quantitative\"}, \"y\": {\"field\": \"value\", \"scale\": {\"zero\": false}, \"type\": \"quantitative\"}}, \"name\": \"view_10\"}, {\"mark\": {\"type\": \"line\", \"point\": true}, \"encoding\": {\"color\": {\"field\": \"variable\", \"type\": \"nominal\"}, \"tooltip\": [{\"field\": \"log2\", \"type\": \"quantitative\"}, {\"field\": \"value\", \"type\": \"quantitative\"}, {\"field\": \"variable\", \"type\": \"nominal\"}], \"x\": {\"field\": \"log2\", \"scale\": {\"zero\": false}, \"type\": \"quantitative\"}, \"y\": {\"field\": \"value\", \"scale\": {\"zero\": false}, \"type\": \"quantitative\"}}, \"name\": \"view_11\"}, {\"mark\": {\"type\": \"line\", \"point\": true}, \"encoding\": {\"color\": {\"field\": \"variable\", \"type\": \"nominal\"}, \"tooltip\": [{\"field\": \"log2\", \"type\": \"quantitative\"}, {\"field\": \"value\", \"type\": \"quantitative\"}, {\"field\": \"variable\", \"type\": \"nominal\"}], \"x\": {\"field\": \"log2\", \"scale\": {\"zero\": false}, \"type\": \"quantitative\"}, \"y\": {\"field\": \"value\", \"scale\": {\"zero\": false}, \"type\": \"quantitative\"}}, \"name\": \"view_12\"}]}, \"params\": [{\"name\": \"param_12\", \"select\": {\"type\": \"interval\", \"encodings\": [\"x\", \"y\"]}, \"bind\": \"scales\", \"views\": [\"view_10\"]}, {\"name\": \"param_11\", \"select\": {\"type\": \"interval\", \"encodings\": [\"x\", \"y\"]}, \"bind\": \"scales\", \"views\": [\"view_11\"]}, {\"name\": \"param_10\", \"select\": {\"type\": \"interval\", \"encodings\": [\"x\", \"y\"]}, \"bind\": \"scales\", \"views\": [\"view_12\"]}], \"$schema\": \"https://vega.github.io/schema/vega-lite/v5.16.3.json\", \"datasets\": {\"data-07e3bf9c4a12b4d2ab7e0318decbe76b\": [{\"log4\": 1, \"log2\": 3, \"variable\": \"NaiveTimes\", \"value\": 0.005001}, {\"log4\": 2, \"log2\": 3, \"variable\": \"NaiveTimes\", \"value\": 0.350114}, {\"log4\": 1, \"log2\": 4, \"variable\": \"NaiveTimes\", \"value\": 0.044}, {\"log4\": 2, \"log2\": 4, \"variable\": \"NaiveTimes\", \"value\": 2.819203}, {\"log4\": 1, \"log2\": 5, \"variable\": \"NaiveTimes\", \"value\": 0.351}, {\"log4\": 2, \"log2\": 5, \"variable\": \"NaiveTimes\", \"value\": 42.93087}, {\"log4\": 1, \"log2\": 6, \"variable\": \"NaiveTimes\", \"value\": 5.472195}, {\"log4\": 2, \"log2\": 6, \"variable\": \"NaiveTimes\", \"value\": 353.991163}, {\"log4\": 1, \"log2\": 7, \"variable\": \"NaiveTimes\", \"value\": 45.181841}, {\"log4\": 2, \"log2\": 7, \"variable\": \"NaiveTimes\", \"value\": 2909.370567}, {\"log4\": 1, \"log2\": 8, \"variable\": \"NaiveTimes\", \"value\": 345.235}, {\"log4\": 2, \"log2\": 8, \"variable\": \"NaiveTimes\", \"value\": 13325.024315}, {\"log4\": 1, \"log2\": 3, \"variable\": \"StrassenTimes\", \"value\": 0.005}, {\"log4\": 2, \"log2\": 3, \"variable\": \"StrassenTimes\", \"value\": 0.243296}, {\"log4\": 1, \"log2\": 4, \"variable\": \"StrassenTimes\", \"value\": 0.034}, {\"log4\": 2, \"log2\": 4, \"variable\": \"StrassenTimes\", \"value\": 1.703506}, {\"log4\": 1, \"log2\": 5, \"variable\": \"StrassenTimes\", \"value\": 0.24195}, {\"log4\": 2, \"log2\": 5, \"variable\": \"StrassenTimes\", \"value\": 12.027178}, {\"log4\": 1, \"log2\": 6, \"variable\": \"StrassenTimes\", \"value\": 3.364012}, {\"log4\": 2, \"log2\": 6, \"variable\": \"StrassenTimes\", \"value\": 164.890623}, {\"log4\": 1, \"log2\": 7, \"variable\": \"StrassenTimes\", \"value\": 23.501114}, {\"log4\": 2, \"log2\": 7, \"variable\": \"StrassenTimes\", \"value\": 1134.958172}, {\"log4\": 1, \"log2\": 8, \"variable\": \"StrassenTimes\", \"value\": 156.989366}, {\"log4\": 2, \"log2\": 8, \"variable\": \"StrassenTimes\", \"value\": 4066.770608}, {\"log4\": 1, \"log2\": 3, \"variable\": \"AlphaTensor\", \"value\": 0.025}, {\"log4\": 2, \"log2\": 3, \"variable\": \"AlphaTensor\", \"value\": 0.22}, {\"log4\": 1, \"log2\": 4, \"variable\": \"AlphaTensor\", \"value\": 0.048}, {\"log4\": 2, \"log2\": 4, \"variable\": \"AlphaTensor\", \"value\": 1.59172}, {\"log4\": 1, \"log2\": 5, \"variable\": \"AlphaTensor\", \"value\": 0.222098}, {\"log4\": 2, \"log2\": 5, \"variable\": \"AlphaTensor\", \"value\": 10.98471}, {\"log4\": 1, \"log2\": 6, \"variable\": \"AlphaTensor\", \"value\": 3.124012}, {\"log4\": 2, \"log2\": 6, \"variable\": \"AlphaTensor\", \"value\": 150.456221}, {\"log4\": 1, \"log2\": 7, \"variable\": \"AlphaTensor\", \"value\": 21.258352}, {\"log4\": 2, \"log2\": 7, \"variable\": \"AlphaTensor\", \"value\": 1044.272302}, {\"log4\": 1, \"log2\": 8, \"variable\": \"AlphaTensor\", \"value\": 141.642754}, {\"log4\": 2, \"log2\": 8, \"variable\": \"AlphaTensor\", \"value\": 4149.494794}]}}, {\"mode\": \"vega-lite\"});\n",
       "</script>"
      ],
      "text/plain": [
       "alt.FacetChart(...)"
      ]
     },
     "execution_count": 7,
     "metadata": {},
     "output_type": "execute_result"
    }
   ],
   "source": [
    "naive = alt.Chart().mark_line(point=True).encode(\n",
    "                x=alt.X('log2').scale(zero=False),\n",
    "                y=alt.Y('value').scale(zero=False),\n",
    "                color='variable:N',\n",
    "                tooltip=['log2','value','variable']\n",
    "        ).interactive()\n",
    "\n",
    "strassen = alt.Chart().mark_line(point=True).encode(\n",
    "                x=alt.X('log2').scale(zero=False),\n",
    "                y=alt.Y('value').scale(zero=False),\n",
    "                color='variable:N',\n",
    "                tooltip=['log2','value','variable']\n",
    "        ).interactive()\n",
    "\n",
    "alpha = alt.Chart().mark_line(point=True).encode(\n",
    "                x=alt.X('log2').scale(zero=False),\n",
    "                y=alt.Y('value').scale(zero=False),\n",
    "                color='variable:N',\n",
    "                tooltip=['log2','value','variable']\n",
    "        ).interactive()\n",
    "\n",
    "fig = alt.layer(alpha, strassen, naive, data=df4).facet('log4:N')\n",
    "fig"
   ]
  },
  {
   "cell_type": "markdown",
   "id": "ea96a923-4dc5-4ef8-9909-4030129a2b25",
   "metadata": {},
   "source": [
    "*log5*"
   ]
  },
  {
   "cell_type": "code",
   "execution_count": 8,
   "id": "67e499d8-1d3d-41f6-a587-024a136c10c3",
   "metadata": {},
   "outputs": [
    {
     "data": {
      "text/html": [
       "\n",
       "<style>\n",
       "  #altair-viz-492d9a148938490daf24d619a378d50c.vega-embed {\n",
       "    width: 100%;\n",
       "    display: flex;\n",
       "  }\n",
       "\n",
       "  #altair-viz-492d9a148938490daf24d619a378d50c.vega-embed details,\n",
       "  #altair-viz-492d9a148938490daf24d619a378d50c.vega-embed details summary {\n",
       "    position: relative;\n",
       "  }\n",
       "</style>\n",
       "<div id=\"altair-viz-492d9a148938490daf24d619a378d50c\"></div>\n",
       "<script type=\"text/javascript\">\n",
       "  var VEGA_DEBUG = (typeof VEGA_DEBUG == \"undefined\") ? {} : VEGA_DEBUG;\n",
       "  (function(spec, embedOpt){\n",
       "    let outputDiv = document.currentScript.previousElementSibling;\n",
       "    if (outputDiv.id !== \"altair-viz-492d9a148938490daf24d619a378d50c\") {\n",
       "      outputDiv = document.getElementById(\"altair-viz-492d9a148938490daf24d619a378d50c\");\n",
       "    }\n",
       "    const paths = {\n",
       "      \"vega\": \"https://cdn.jsdelivr.net/npm/vega@5?noext\",\n",
       "      \"vega-lib\": \"https://cdn.jsdelivr.net/npm/vega-lib?noext\",\n",
       "      \"vega-lite\": \"https://cdn.jsdelivr.net/npm/vega-lite@5.16.3?noext\",\n",
       "      \"vega-embed\": \"https://cdn.jsdelivr.net/npm/vega-embed@6?noext\",\n",
       "    };\n",
       "\n",
       "    function maybeLoadScript(lib, version) {\n",
       "      var key = `${lib.replace(\"-\", \"\")}_version`;\n",
       "      return (VEGA_DEBUG[key] == version) ?\n",
       "        Promise.resolve(paths[lib]) :\n",
       "        new Promise(function(resolve, reject) {\n",
       "          var s = document.createElement('script');\n",
       "          document.getElementsByTagName(\"head\")[0].appendChild(s);\n",
       "          s.async = true;\n",
       "          s.onload = () => {\n",
       "            VEGA_DEBUG[key] = version;\n",
       "            return resolve(paths[lib]);\n",
       "          };\n",
       "          s.onerror = () => reject(`Error loading script: ${paths[lib]}`);\n",
       "          s.src = paths[lib];\n",
       "        });\n",
       "    }\n",
       "\n",
       "    function showError(err) {\n",
       "      outputDiv.innerHTML = `<div class=\"error\" style=\"color:red;\">${err}</div>`;\n",
       "      throw err;\n",
       "    }\n",
       "\n",
       "    function displayChart(vegaEmbed) {\n",
       "      vegaEmbed(outputDiv, spec, embedOpt)\n",
       "        .catch(err => showError(`Javascript Error: ${err.message}<br>This usually means there's a typo in your chart specification. See the javascript console for the full traceback.`));\n",
       "    }\n",
       "\n",
       "    if(typeof define === \"function\" && define.amd) {\n",
       "      requirejs.config({paths});\n",
       "      require([\"vega-embed\"], displayChart, err => showError(`Error loading script: ${err.message}`));\n",
       "    } else {\n",
       "      maybeLoadScript(\"vega\", \"5\")\n",
       "        .then(() => maybeLoadScript(\"vega-lite\", \"5.16.3\"))\n",
       "        .then(() => maybeLoadScript(\"vega-embed\", \"6\"))\n",
       "        .catch(showError)\n",
       "        .then(() => displayChart(vegaEmbed));\n",
       "    }\n",
       "  })({\"config\": {\"view\": {\"continuousWidth\": 300, \"continuousHeight\": 300}}, \"data\": {\"name\": \"data-f46963ab80e48ee533e4bd330f4ad45b\"}, \"facet\": {\"field\": \"log5\", \"type\": \"nominal\"}, \"spec\": {\"layer\": [{\"mark\": {\"type\": \"line\", \"point\": true}, \"encoding\": {\"color\": {\"field\": \"variable\", \"type\": \"nominal\"}, \"tooltip\": [{\"field\": \"log2\", \"type\": \"quantitative\"}, {\"field\": \"value\", \"type\": \"quantitative\"}, {\"field\": \"variable\", \"type\": \"nominal\"}], \"x\": {\"field\": \"log2\", \"scale\": {\"zero\": false}, \"type\": \"quantitative\"}, \"y\": {\"field\": \"value\", \"scale\": {\"zero\": false}, \"type\": \"quantitative\"}}, \"name\": \"view_13\"}, {\"mark\": {\"type\": \"line\", \"point\": true}, \"encoding\": {\"color\": {\"field\": \"variable\", \"type\": \"nominal\"}, \"tooltip\": [{\"field\": \"log2\", \"type\": \"quantitative\"}, {\"field\": \"value\", \"type\": \"quantitative\"}, {\"field\": \"variable\", \"type\": \"nominal\"}], \"x\": {\"field\": \"log2\", \"scale\": {\"zero\": false}, \"type\": \"quantitative\"}, \"y\": {\"field\": \"value\", \"scale\": {\"zero\": false}, \"type\": \"quantitative\"}}, \"name\": \"view_14\"}, {\"mark\": {\"type\": \"line\", \"point\": true}, \"encoding\": {\"color\": {\"field\": \"variable\", \"type\": \"nominal\"}, \"tooltip\": [{\"field\": \"log2\", \"type\": \"quantitative\"}, {\"field\": \"value\", \"type\": \"quantitative\"}, {\"field\": \"variable\", \"type\": \"nominal\"}], \"x\": {\"field\": \"log2\", \"scale\": {\"zero\": false}, \"type\": \"quantitative\"}, \"y\": {\"field\": \"value\", \"scale\": {\"zero\": false}, \"type\": \"quantitative\"}}, \"name\": \"view_15\"}]}, \"params\": [{\"name\": \"param_15\", \"select\": {\"type\": \"interval\", \"encodings\": [\"x\", \"y\"]}, \"bind\": \"scales\", \"views\": [\"view_13\"]}, {\"name\": \"param_14\", \"select\": {\"type\": \"interval\", \"encodings\": [\"x\", \"y\"]}, \"bind\": \"scales\", \"views\": [\"view_14\"]}, {\"name\": \"param_13\", \"select\": {\"type\": \"interval\", \"encodings\": [\"x\", \"y\"]}, \"bind\": \"scales\", \"views\": [\"view_15\"]}], \"$schema\": \"https://vega.github.io/schema/vega-lite/v5.16.3.json\", \"datasets\": {\"data-f46963ab80e48ee533e4bd330f4ad45b\": [{\"log5\": 1, \"log2\": 3, \"variable\": \"NaiveTimes\", \"value\": 0.0}, {\"log5\": 2, \"log2\": 3, \"variable\": \"NaiveTimes\", \"value\": 0.01}, {\"log5\": 1, \"log2\": 4, \"variable\": \"NaiveTimes\", \"value\": 0.001}, {\"log5\": 2, \"log2\": 4, \"variable\": \"NaiveTimes\", \"value\": 0.08505}, {\"log5\": 1, \"log2\": 5, \"variable\": \"NaiveTimes\", \"value\": 0.00505}, {\"log5\": 2, \"log2\": 5, \"variable\": \"NaiveTimes\", \"value\": 0.678097}, {\"log5\": 1, \"log2\": 6, \"variable\": \"NaiveTimes\", \"value\": 0.044001}, {\"log5\": 2, \"log2\": 6, \"variable\": \"NaiveTimes\", \"value\": 5.480243}, {\"log5\": 1, \"log2\": 7, \"variable\": \"NaiveTimes\", \"value\": 0.344}, {\"log5\": 2, \"log2\": 7, \"variable\": \"NaiveTimes\", \"value\": 108.381615}, {\"log5\": 1, \"log2\": 8, \"variable\": \"NaiveTimes\", \"value\": 2.797015}, {\"log5\": 2, \"log2\": 8, \"variable\": \"NaiveTimes\", \"value\": 1632.830457}, {\"log5\": 1, \"log2\": 3, \"variable\": \"StrassenTimes\", \"value\": 0.0}, {\"log5\": 2, \"log2\": 3, \"variable\": \"StrassenTimes\", \"value\": 0.007}, {\"log5\": 1, \"log2\": 4, \"variable\": \"StrassenTimes\", \"value\": 0.0}, {\"log5\": 2, \"log2\": 4, \"variable\": \"StrassenTimes\", \"value\": 0.05105}, {\"log5\": 1, \"log2\": 5, \"variable\": \"StrassenTimes\", \"value\": 0.004}, {\"log5\": 2, \"log2\": 5, \"variable\": \"StrassenTimes\", \"value\": 0.357001}, {\"log5\": 1, \"log2\": 6, \"variable\": \"StrassenTimes\", \"value\": 0.028999}, {\"log5\": 2, \"log2\": 6, \"variable\": \"StrassenTimes\", \"value\": 2.493057}, {\"log5\": 1, \"log2\": 7, \"variable\": \"StrassenTimes\", \"value\": 0.211}, {\"log5\": 2, \"log2\": 7, \"variable\": \"StrassenTimes\", \"value\": 17.540649}, {\"log5\": 1, \"log2\": 8, \"variable\": \"StrassenTimes\", \"value\": 1.488604}, {\"log5\": 2, \"log2\": 8, \"variable\": \"StrassenTimes\", \"value\": 122.775946}, {\"log5\": 1, \"log2\": 3, \"variable\": \"AlphaTensor\", \"value\": 0.00076}, {\"log5\": 2, \"log2\": 3, \"variable\": \"AlphaTensor\", \"value\": 0.008003}, {\"log5\": 1, \"log2\": 4, \"variable\": \"AlphaTensor\", \"value\": 0.001}, {\"log5\": 2, \"log2\": 4, \"variable\": \"AlphaTensor\", \"value\": 0.05}, {\"log5\": 1, \"log2\": 5, \"variable\": \"AlphaTensor\", \"value\": 0.004}, {\"log5\": 2, \"log2\": 5, \"variable\": \"AlphaTensor\", \"value\": 0.35346}, {\"log5\": 1, \"log2\": 6, \"variable\": \"AlphaTensor\", \"value\": 0.03}, {\"log5\": 2, \"log2\": 6, \"variable\": \"AlphaTensor\", \"value\": 2.487911}, {\"log5\": 1, \"log2\": 7, \"variable\": \"AlphaTensor\", \"value\": 0.21}, {\"log5\": 2, \"log2\": 7, \"variable\": \"AlphaTensor\", \"value\": 17.524267000000002}, {\"log5\": 1, \"log2\": 8, \"variable\": \"AlphaTensor\", \"value\": 1.485508}, {\"log5\": 2, \"log2\": 8, \"variable\": \"AlphaTensor\", \"value\": 122.738751}]}}, {\"mode\": \"vega-lite\"});\n",
       "</script>"
      ],
      "text/plain": [
       "alt.FacetChart(...)"
      ]
     },
     "execution_count": 8,
     "metadata": {},
     "output_type": "execute_result"
    }
   ],
   "source": [
    "naive = alt.Chart().mark_line(point=True).encode(\n",
    "                x=alt.X('log2').scale(zero=False),\n",
    "                y=alt.Y('value').scale(zero=False),\n",
    "                color='variable:N',\n",
    "                tooltip=['log2','value','variable']\n",
    "        ).interactive()\n",
    "\n",
    "strassen = alt.Chart().mark_line(point=True).encode(\n",
    "                x=alt.X('log2').scale(zero=False),\n",
    "                y=alt.Y('value').scale(zero=False),\n",
    "                color='variable:N',\n",
    "                tooltip=['log2','value','variable']\n",
    "        ).interactive()\n",
    "\n",
    "alpha = alt.Chart().mark_line(point=True).encode(\n",
    "                x=alt.X('log2').scale(zero=False),\n",
    "                y=alt.Y('value').scale(zero=False),\n",
    "                color='variable:N',\n",
    "                tooltip=['log2','value','variable']\n",
    "        ).interactive()\n",
    "\n",
    "fig = alt.layer(alpha, strassen, naive, data=df5).facet('log5:N')\n",
    "fig"
   ]
  },
  {
   "cell_type": "code",
   "execution_count": null,
   "id": "4007c4a7-7796-4251-a917-6a86e41559b2",
   "metadata": {},
   "outputs": [],
   "source": []
  }
 ],
 "metadata": {
  "kernelspec": {
   "display_name": "Python 3 (ipykernel)",
   "language": "python",
   "name": "python3"
  },
  "language_info": {
   "codemirror_mode": {
    "name": "ipython",
    "version": 3
   },
   "file_extension": ".py",
   "mimetype": "text/x-python",
   "name": "python",
   "nbconvert_exporter": "python",
   "pygments_lexer": "ipython3",
   "version": "3.12.1"
  }
 },
 "nbformat": 4,
 "nbformat_minor": 5
}
