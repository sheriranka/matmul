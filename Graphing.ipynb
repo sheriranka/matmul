{
 "cells": [
  {
   "cell_type": "markdown",
   "id": "8adad97a-886f-4ab7-aafc-4bb88249b0fe",
   "metadata": {},
   "source": [
    "## COMPARING TIME OVER MATRIX SIZE GROWTH - VISUALIZE"
   ]
  },
  {
   "cell_type": "markdown",
   "id": "d9e867f5-9af6-48db-b350-93b6ec6d6495",
   "metadata": {},
   "source": [
    "*import libraries*"
   ]
  },
  {
   "cell_type": "code",
   "execution_count": 25,
   "id": "fd2d5c6a-b75e-4871-aced-7324c63a0d37",
   "metadata": {},
   "outputs": [],
   "source": [
    "import pandas as pd\n",
    "import altair as alt"
   ]
  },
  {
   "cell_type": "markdown",
   "id": "1e5a9e57-032e-4fcd-a7ff-1af9745c8515",
   "metadata": {},
   "source": [
    "*read datasets*"
   ]
  },
  {
   "cell_type": "code",
   "execution_count": 2,
   "id": "15521c07-441f-490c-827a-d98b81454458",
   "metadata": {},
   "outputs": [],
   "source": [
    "df4 = pd.read_csv(\"log4.csv\")\n",
    "df5 = pd.read_csv(\"log5.csv\")"
   ]
  },
  {
   "cell_type": "markdown",
   "id": "40d4b0da-2b29-4e35-bf00-4961f1c51947",
   "metadata": {},
   "source": [
    "*Convert to long form data*"
   ]
  },
  {
   "cell_type": "code",
   "execution_count": 12,
   "id": "3940c846-80c5-4802-8ab0-393b1ae03085",
   "metadata": {},
   "outputs": [],
   "source": [
    "df4 = df4.melt(id_vars=['log4','log2'])\n",
    "df5 = df5.melt(id_vars=['log5','log2'])"
   ]
  },
  {
   "cell_type": "markdown",
   "id": "e8647e66-82b5-4380-bf90-d436c67a642d",
   "metadata": {},
   "source": [
    "### PLOTS"
   ]
  },
  {
   "cell_type": "markdown",
   "id": "0bf9e90b-7edf-4b84-96e1-e926edc0348a",
   "metadata": {},
   "source": [
    "*Log4*"
   ]
  },
  {
   "cell_type": "code",
   "execution_count": 24,
   "id": "b8ef1fb3-f85f-454b-8d37-cc4d3d2856c7",
   "metadata": {},
   "outputs": [
    {
     "data": {
      "text/html": [
       "\n",
       "<style>\n",
       "  #altair-viz-369d5f1215794ecca8c746ad6c797518.vega-embed {\n",
       "    width: 100%;\n",
       "    display: flex;\n",
       "  }\n",
       "\n",
       "  #altair-viz-369d5f1215794ecca8c746ad6c797518.vega-embed details,\n",
       "  #altair-viz-369d5f1215794ecca8c746ad6c797518.vega-embed details summary {\n",
       "    position: relative;\n",
       "  }\n",
       "</style>\n",
       "<div id=\"altair-viz-369d5f1215794ecca8c746ad6c797518\"></div>\n",
       "<script type=\"text/javascript\">\n",
       "  var VEGA_DEBUG = (typeof VEGA_DEBUG == \"undefined\") ? {} : VEGA_DEBUG;\n",
       "  (function(spec, embedOpt){\n",
       "    let outputDiv = document.currentScript.previousElementSibling;\n",
       "    if (outputDiv.id !== \"altair-viz-369d5f1215794ecca8c746ad6c797518\") {\n",
       "      outputDiv = document.getElementById(\"altair-viz-369d5f1215794ecca8c746ad6c797518\");\n",
       "    }\n",
       "    const paths = {\n",
       "      \"vega\": \"https://cdn.jsdelivr.net/npm/vega@5?noext\",\n",
       "      \"vega-lib\": \"https://cdn.jsdelivr.net/npm/vega-lib?noext\",\n",
       "      \"vega-lite\": \"https://cdn.jsdelivr.net/npm/vega-lite@5.16.3?noext\",\n",
       "      \"vega-embed\": \"https://cdn.jsdelivr.net/npm/vega-embed@6?noext\",\n",
       "    };\n",
       "\n",
       "    function maybeLoadScript(lib, version) {\n",
       "      var key = `${lib.replace(\"-\", \"\")}_version`;\n",
       "      return (VEGA_DEBUG[key] == version) ?\n",
       "        Promise.resolve(paths[lib]) :\n",
       "        new Promise(function(resolve, reject) {\n",
       "          var s = document.createElement('script');\n",
       "          document.getElementsByTagName(\"head\")[0].appendChild(s);\n",
       "          s.async = true;\n",
       "          s.onload = () => {\n",
       "            VEGA_DEBUG[key] = version;\n",
       "            return resolve(paths[lib]);\n",
       "          };\n",
       "          s.onerror = () => reject(`Error loading script: ${paths[lib]}`);\n",
       "          s.src = paths[lib];\n",
       "        });\n",
       "    }\n",
       "\n",
       "    function showError(err) {\n",
       "      outputDiv.innerHTML = `<div class=\"error\" style=\"color:red;\">${err}</div>`;\n",
       "      throw err;\n",
       "    }\n",
       "\n",
       "    function displayChart(vegaEmbed) {\n",
       "      vegaEmbed(outputDiv, spec, embedOpt)\n",
       "        .catch(err => showError(`Javascript Error: ${err.message}<br>This usually means there's a typo in your chart specification. See the javascript console for the full traceback.`));\n",
       "    }\n",
       "\n",
       "    if(typeof define === \"function\" && define.amd) {\n",
       "      requirejs.config({paths});\n",
       "      require([\"vega-embed\"], displayChart, err => showError(`Error loading script: ${err.message}`));\n",
       "    } else {\n",
       "      maybeLoadScript(\"vega\", \"5\")\n",
       "        .then(() => maybeLoadScript(\"vega-lite\", \"5.16.3\"))\n",
       "        .then(() => maybeLoadScript(\"vega-embed\", \"6\"))\n",
       "        .catch(showError)\n",
       "        .then(() => displayChart(vegaEmbed));\n",
       "    }\n",
       "  })({\"config\": {\"view\": {\"continuousWidth\": 300, \"continuousHeight\": 300}}, \"data\": {\"name\": \"data-8a7b9892fb7f407f688eadd23eb29985\"}, \"facet\": {\"field\": \"log4\", \"type\": \"nominal\"}, \"spec\": {\"layer\": [{\"mark\": {\"type\": \"line\", \"point\": true}, \"encoding\": {\"color\": {\"field\": \"variable\", \"type\": \"nominal\"}, \"x\": {\"field\": \"log2\", \"scale\": {\"zero\": false}, \"type\": \"quantitative\"}, \"y\": {\"field\": \"value\", \"scale\": {\"zero\": false}, \"type\": \"quantitative\"}}, \"name\": \"view_26\"}, {\"mark\": {\"type\": \"line\", \"point\": true}, \"encoding\": {\"color\": {\"field\": \"variable\", \"type\": \"nominal\"}, \"x\": {\"field\": \"log2\", \"scale\": {\"zero\": false}, \"type\": \"quantitative\"}, \"y\": {\"field\": \"value\", \"scale\": {\"zero\": false}, \"type\": \"quantitative\"}}, \"name\": \"view_27\"}, {\"mark\": {\"type\": \"line\", \"point\": true}, \"encoding\": {\"color\": {\"field\": \"variable\", \"type\": \"nominal\"}, \"x\": {\"field\": \"log2\", \"scale\": {\"zero\": false}, \"type\": \"quantitative\"}, \"y\": {\"field\": \"value\", \"scale\": {\"zero\": false}, \"type\": \"quantitative\"}}, \"name\": \"view_28\"}]}, \"params\": [{\"name\": \"param_28\", \"select\": {\"type\": \"interval\", \"encodings\": [\"x\", \"y\"]}, \"bind\": \"scales\", \"views\": [\"view_26\"]}, {\"name\": \"param_27\", \"select\": {\"type\": \"interval\", \"encodings\": [\"x\", \"y\"]}, \"bind\": \"scales\", \"views\": [\"view_27\"]}, {\"name\": \"param_26\", \"select\": {\"type\": \"interval\", \"encodings\": [\"x\", \"y\"]}, \"bind\": \"scales\", \"views\": [\"view_28\"]}], \"$schema\": \"https://vega.github.io/schema/vega-lite/v5.16.3.json\", \"datasets\": {\"data-8a7b9892fb7f407f688eadd23eb29985\": [{\"log4\": 1, \"log2\": 3, \"variable\": \"NaiveTimes\", \"value\": 0.015624}, {\"log4\": 2, \"log2\": 3, \"variable\": \"NaiveTimes\", \"value\": 1.049243}, {\"log4\": 1, \"log2\": 4, \"variable\": \"NaiveTimes\", \"value\": 0.108916}, {\"log4\": 2, \"log2\": 4, \"variable\": \"NaiveTimes\", \"value\": 7.573255}, {\"log4\": 1, \"log2\": 5, \"variable\": \"NaiveTimes\", \"value\": 0.989661}, {\"log4\": 2, \"log2\": 5, \"variable\": \"NaiveTimes\", \"value\": 62.307003}, {\"log4\": 1, \"log2\": 6, \"variable\": \"NaiveTimes\", \"value\": 7.600591}, {\"log4\": 2, \"log2\": 6, \"variable\": \"NaiveTimes\", \"value\": 538.973474}, {\"log4\": 1, \"log2\": 3, \"variable\": \"StrassenTimes\", \"value\": 0.015638}, {\"log4\": 2, \"log2\": 3, \"variable\": \"StrassenTimes\", \"value\": 0.686152}, {\"log4\": 1, \"log2\": 4, \"variable\": \"StrassenTimes\", \"value\": 0.093762}, {\"log4\": 2, \"log2\": 4, \"variable\": \"StrassenTimes\", \"value\": 4.721271}, {\"log4\": 1, \"log2\": 5, \"variable\": \"StrassenTimes\", \"value\": 0.57891}, {\"log4\": 2, \"log2\": 5, \"variable\": \"StrassenTimes\", \"value\": 32.306474}, {\"log4\": 1, \"log2\": 6, \"variable\": \"StrassenTimes\", \"value\": 4.217334}, {\"log4\": 2, \"log2\": 6, \"variable\": \"StrassenTimes\", \"value\": 249.30089}, {\"log4\": 1, \"log2\": 3, \"variable\": \"AlphaTensor\", \"value\": 0.02215}, {\"log4\": 2, \"log2\": 3, \"variable\": \"AlphaTensor\", \"value\": 1.276096}, {\"log4\": 1, \"log2\": 4, \"variable\": \"AlphaTensor\", \"value\": 0.2383}, {\"log4\": 2, \"log2\": 4, \"variable\": \"AlphaTensor\", \"value\": 9.440383}, {\"log4\": 1, \"log2\": 5, \"variable\": \"AlphaTensor\", \"value\": 1.314706}, {\"log4\": 2, \"log2\": 5, \"variable\": \"AlphaTensor\", \"value\": 60.604913}, {\"log4\": 1, \"log2\": 6, \"variable\": \"AlphaTensor\", \"value\": 8.476001}, {\"log4\": 2, \"log2\": 6, \"variable\": \"AlphaTensor\", \"value\": 520.71827}]}}, {\"mode\": \"vega-lite\"});\n",
       "</script>"
      ],
      "text/plain": [
       "alt.FacetChart(...)"
      ]
     },
     "execution_count": 24,
     "metadata": {},
     "output_type": "execute_result"
    }
   ],
   "source": [
    "naive = alt.Chart().mark_line(point=True).encode(\n",
    "                x=alt.X('log2').scale(zero=False),\n",
    "                y=alt.Y('value').scale(zero=False),\n",
    "                color='variable:N'\n",
    "        ).interactive()\n",
    "\n",
    "strassen = alt.Chart().mark_line(point=True).encode(\n",
    "                x=alt.X('log2').scale(zero=False),\n",
    "                y=alt.Y('value').scale(zero=False),\n",
    "                color='variable:N'\n",
    "        ).interactive()\n",
    "\n",
    "alpha = alt.Chart().mark_line(point=True).encode(\n",
    "                x=alt.X('log2').scale(zero=False),\n",
    "                y=alt.Y('value').scale(zero=False),\n",
    "                color='variable:N'\n",
    "        ).interactive()\n",
    "\n",
    "fig = alt.layer(alpha, strassen, naive, data=df4).facet('log4:N')\n",
    "fig"
   ]
  },
  {
   "cell_type": "markdown",
   "id": "ea96a923-4dc5-4ef8-9909-4030129a2b25",
   "metadata": {},
   "source": [
    "*log5*"
   ]
  },
  {
   "cell_type": "code",
   "execution_count": 22,
   "id": "67e499d8-1d3d-41f6-a587-024a136c10c3",
   "metadata": {},
   "outputs": [
    {
     "data": {
      "text/html": [
       "\n",
       "<style>\n",
       "  #altair-viz-6d4460799816420684b9076c6388b572.vega-embed {\n",
       "    width: 100%;\n",
       "    display: flex;\n",
       "  }\n",
       "\n",
       "  #altair-viz-6d4460799816420684b9076c6388b572.vega-embed details,\n",
       "  #altair-viz-6d4460799816420684b9076c6388b572.vega-embed details summary {\n",
       "    position: relative;\n",
       "  }\n",
       "</style>\n",
       "<div id=\"altair-viz-6d4460799816420684b9076c6388b572\"></div>\n",
       "<script type=\"text/javascript\">\n",
       "  var VEGA_DEBUG = (typeof VEGA_DEBUG == \"undefined\") ? {} : VEGA_DEBUG;\n",
       "  (function(spec, embedOpt){\n",
       "    let outputDiv = document.currentScript.previousElementSibling;\n",
       "    if (outputDiv.id !== \"altair-viz-6d4460799816420684b9076c6388b572\") {\n",
       "      outputDiv = document.getElementById(\"altair-viz-6d4460799816420684b9076c6388b572\");\n",
       "    }\n",
       "    const paths = {\n",
       "      \"vega\": \"https://cdn.jsdelivr.net/npm/vega@5?noext\",\n",
       "      \"vega-lib\": \"https://cdn.jsdelivr.net/npm/vega-lib?noext\",\n",
       "      \"vega-lite\": \"https://cdn.jsdelivr.net/npm/vega-lite@5.16.3?noext\",\n",
       "      \"vega-embed\": \"https://cdn.jsdelivr.net/npm/vega-embed@6?noext\",\n",
       "    };\n",
       "\n",
       "    function maybeLoadScript(lib, version) {\n",
       "      var key = `${lib.replace(\"-\", \"\")}_version`;\n",
       "      return (VEGA_DEBUG[key] == version) ?\n",
       "        Promise.resolve(paths[lib]) :\n",
       "        new Promise(function(resolve, reject) {\n",
       "          var s = document.createElement('script');\n",
       "          document.getElementsByTagName(\"head\")[0].appendChild(s);\n",
       "          s.async = true;\n",
       "          s.onload = () => {\n",
       "            VEGA_DEBUG[key] = version;\n",
       "            return resolve(paths[lib]);\n",
       "          };\n",
       "          s.onerror = () => reject(`Error loading script: ${paths[lib]}`);\n",
       "          s.src = paths[lib];\n",
       "        });\n",
       "    }\n",
       "\n",
       "    function showError(err) {\n",
       "      outputDiv.innerHTML = `<div class=\"error\" style=\"color:red;\">${err}</div>`;\n",
       "      throw err;\n",
       "    }\n",
       "\n",
       "    function displayChart(vegaEmbed) {\n",
       "      vegaEmbed(outputDiv, spec, embedOpt)\n",
       "        .catch(err => showError(`Javascript Error: ${err.message}<br>This usually means there's a typo in your chart specification. See the javascript console for the full traceback.`));\n",
       "    }\n",
       "\n",
       "    if(typeof define === \"function\" && define.amd) {\n",
       "      requirejs.config({paths});\n",
       "      require([\"vega-embed\"], displayChart, err => showError(`Error loading script: ${err.message}`));\n",
       "    } else {\n",
       "      maybeLoadScript(\"vega\", \"5\")\n",
       "        .then(() => maybeLoadScript(\"vega-lite\", \"5.16.3\"))\n",
       "        .then(() => maybeLoadScript(\"vega-embed\", \"6\"))\n",
       "        .catch(showError)\n",
       "        .then(() => displayChart(vegaEmbed));\n",
       "    }\n",
       "  })({\"config\": {\"view\": {\"continuousWidth\": 300, \"continuousHeight\": 300}}, \"data\": {\"name\": \"data-0229d123a2e4d17cf271177d8abb5cd6\"}, \"facet\": {\"field\": \"log5\", \"type\": \"nominal\"}, \"spec\": {\"layer\": [{\"mark\": {\"type\": \"line\", \"point\": true}, \"encoding\": {\"color\": {\"field\": \"variable\", \"type\": \"nominal\"}, \"x\": {\"field\": \"log2\", \"scale\": {\"zero\": false}, \"type\": \"quantitative\"}, \"y\": {\"field\": \"value\", \"scale\": {\"zero\": false}, \"type\": \"quantitative\"}}, \"name\": \"view_20\"}, {\"mark\": {\"type\": \"line\", \"point\": true}, \"encoding\": {\"color\": {\"field\": \"variable\", \"type\": \"nominal\"}, \"x\": {\"field\": \"log2\", \"scale\": {\"zero\": false}, \"type\": \"quantitative\"}, \"y\": {\"field\": \"value\", \"scale\": {\"zero\": false}, \"type\": \"quantitative\"}}, \"name\": \"view_21\"}, {\"mark\": {\"type\": \"line\", \"point\": true}, \"encoding\": {\"color\": {\"field\": \"variable\", \"type\": \"nominal\"}, \"x\": {\"field\": \"log2\", \"scale\": {\"zero\": false}, \"type\": \"quantitative\"}, \"y\": {\"field\": \"value\", \"scale\": {\"zero\": false}, \"type\": \"quantitative\"}}, \"name\": \"view_22\"}]}, \"params\": [{\"name\": \"param_22\", \"select\": {\"type\": \"interval\", \"encodings\": [\"x\", \"y\"]}, \"bind\": \"scales\", \"views\": [\"view_20\"]}, {\"name\": \"param_21\", \"select\": {\"type\": \"interval\", \"encodings\": [\"x\", \"y\"]}, \"bind\": \"scales\", \"views\": [\"view_21\"]}, {\"name\": \"param_20\", \"select\": {\"type\": \"interval\", \"encodings\": [\"x\", \"y\"]}, \"bind\": \"scales\", \"views\": [\"view_22\"]}], \"$schema\": \"https://vega.github.io/schema/vega-lite/v5.16.3.json\", \"datasets\": {\"data-0229d123a2e4d17cf271177d8abb5cd6\": [{\"log5\": 1, \"log2\": 3, \"variable\": \"NaiveTimes\", \"value\": 0.0}, {\"log5\": 2, \"log2\": 3, \"variable\": \"NaiveTimes\", \"value\": 0.015615}, {\"log5\": 1, \"log2\": 4, \"variable\": \"NaiveTimes\", \"value\": 0.0}, {\"log5\": 2, \"log2\": 4, \"variable\": \"NaiveTimes\", \"value\": 0.11585}, {\"log5\": 1, \"log2\": 5, \"variable\": \"NaiveTimes\", \"value\": 0.008085}, {\"log5\": 2, \"log2\": 5, \"variable\": \"NaiveTimes\", \"value\": 1.118151}, {\"log5\": 1, \"log2\": 6, \"variable\": \"NaiveTimes\", \"value\": 0.062527}, {\"log5\": 2, \"log2\": 6, \"variable\": \"NaiveTimes\", \"value\": 21.236941}, {\"log5\": 1, \"log2\": 3, \"variable\": \"StrassenTimes\", \"value\": 0.0}, {\"log5\": 2, \"log2\": 3, \"variable\": \"StrassenTimes\", \"value\": 0.015634}, {\"log5\": 1, \"log2\": 4, \"variable\": \"StrassenTimes\", \"value\": 0.0}, {\"log5\": 2, \"log2\": 4, \"variable\": \"StrassenTimes\", \"value\": 0.069046}, {\"log5\": 1, \"log2\": 5, \"variable\": \"StrassenTimes\", \"value\": 0.010112}, {\"log5\": 2, \"log2\": 5, \"variable\": \"StrassenTimes\", \"value\": 0.626113}, {\"log5\": 1, \"log2\": 6, \"variable\": \"StrassenTimes\", \"value\": 0.053401}, {\"log5\": 2, \"log2\": 6, \"variable\": \"StrassenTimes\", \"value\": 3.737076}, {\"log5\": 1, \"log2\": 3, \"variable\": \"AlphaTensor\", \"value\": 0.001007}, {\"log5\": 2, \"log2\": 3, \"variable\": \"AlphaTensor\", \"value\": 0.01564}, {\"log5\": 1, \"log2\": 4, \"variable\": \"AlphaTensor\", \"value\": 0.0}, {\"log5\": 2, \"log2\": 4, \"variable\": \"AlphaTensor\", \"value\": 0.086678}, {\"log5\": 1, \"log2\": 5, \"variable\": \"AlphaTensor\", \"value\": 0.002048}, {\"log5\": 2, \"log2\": 5, \"variable\": \"AlphaTensor\", \"value\": 0.574457}, {\"log5\": 1, \"log2\": 6, \"variable\": \"AlphaTensor\", \"value\": 0.069026}, {\"log5\": 2, \"log2\": 6, \"variable\": \"AlphaTensor\", \"value\": 3.90794}]}}, {\"mode\": \"vega-lite\"});\n",
       "</script>"
      ],
      "text/plain": [
       "alt.FacetChart(...)"
      ]
     },
     "execution_count": 22,
     "metadata": {},
     "output_type": "execute_result"
    }
   ],
   "source": [
    "naive = alt.Chart().mark_line(point=True).encode(\n",
    "                x=alt.X('log2').scale(zero=False),\n",
    "                y=alt.Y('value').scale(zero=False),\n",
    "                color='variable:N'\n",
    "        ).interactive()\n",
    "\n",
    "strassen = alt.Chart().mark_line(point=True).encode(\n",
    "                x=alt.X('log2').scale(zero=False),\n",
    "                y=alt.Y('value').scale(zero=False),\n",
    "                color='variable:N'\n",
    "        ).interactive()\n",
    "\n",
    "alpha = alt.Chart().mark_line(point=True).encode(\n",
    "                x=alt.X('log2').scale(zero=False),\n",
    "                y=alt.Y('value').scale(zero=False),\n",
    "                color='variable:N'\n",
    "        ).interactive()\n",
    "\n",
    "fig = alt.layer(alpha, strassen, naive, data=df5).facet('log5:N')\n",
    "fig"
   ]
  }
 ],
 "metadata": {
  "kernelspec": {
   "display_name": "Python 3 (ipykernel)",
   "language": "python",
   "name": "python3"
  },
  "language_info": {
   "codemirror_mode": {
    "name": "ipython",
    "version": 3
   },
   "file_extension": ".py",
   "mimetype": "text/x-python",
   "name": "python",
   "nbconvert_exporter": "python",
   "pygments_lexer": "ipython3",
   "version": "3.12.1"
  }
 },
 "nbformat": 4,
 "nbformat_minor": 5
}
