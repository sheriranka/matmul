{
 "cells": [
  {
   "cell_type": "markdown",
   "id": "4103cd42-e482-4698-a199-628816368f3f",
   "metadata": {},
   "source": [
    "## COMPARING TIME OVER MATRIX SIZE GROWTH - CREATE DATASET"
   ]
  },
  {
   "cell_type": "markdown",
   "id": "f8582e41-4d9d-4658-b9ed-29abb2b2141e",
   "metadata": {},
   "source": [
    "*importing libraries*"
   ]
  },
  {
   "cell_type": "code",
   "execution_count": 1,
   "id": "7b3c1c7d-b8cb-408d-8cfd-0ebfa63c200f",
   "metadata": {},
   "outputs": [],
   "source": [
    "import numpy as np\n",
    "import alphatensoralgos as at\n",
    "from datetime import datetime\n",
    "import pandas as pd"
   ]
  },
  {
   "cell_type": "markdown",
   "id": "f4e3e939-2748-4a3c-b689-ece115008c80",
   "metadata": {},
   "source": [
    "*Constants*"
   ]
  },
  {
   "cell_type": "code",
   "execution_count": 2,
   "id": "a76c8d56-fccd-4abd-91de-6559dab9f5ae",
   "metadata": {},
   "outputs": [],
   "source": [
    "min2 = 3\n",
    "max2 = 6\n",
    "max5 = 2\n",
    "max4 = 2"
   ]
  },
  {
   "cell_type": "markdown",
   "id": "00417a81-61a2-48c0-baea-3124da032f02",
   "metadata": {},
   "source": [
    "*Set dataset of numbers to test*"
   ]
  },
  {
   "cell_type": "code",
   "execution_count": 3,
   "id": "ef97931e-ee5e-4bfe-a698-3c158708a260",
   "metadata": {},
   "outputs": [],
   "source": [
    "two = 2 ** np.arange(min2,max2+1)\n",
    "four = 4 ** np.arange(1,max4+1)\n",
    "five = 5 ** np.arange(1,max5+1)\n",
    "\n",
    "Fours = []\n",
    "Fives = []\n",
    "\n",
    "for i in two:\n",
    "    fours = []\n",
    "    for j in four:\n",
    "        fours.append(i*j)\n",
    "    Fours.append(fours)\n",
    "\n",
    "    fives = []\n",
    "    for j in five:\n",
    "        fives.append(i*j)\n",
    "    Fives.append(fives)"
   ]
  },
  {
   "cell_type": "code",
   "execution_count": 4,
   "id": "c46b7904-574f-4534-a5b1-008994a6ba94",
   "metadata": {},
   "outputs": [
    {
     "name": "stdout",
     "output_type": "stream",
     "text": [
      "[[32, 128], [64, 256], [128, 512], [256, 1024]]\n",
      "[[40, 200], [80, 400], [160, 800], [320, 1600]]\n"
     ]
    }
   ],
   "source": [
    "print(Fours)\n",
    "print(Fives)"
   ]
  },
  {
   "cell_type": "markdown",
   "id": "a93fab3e-a774-4386-9c0f-f35d91aff4a2",
   "metadata": {},
   "source": [
    "*labels for dataframe*"
   ]
  },
  {
   "cell_type": "code",
   "execution_count": 5,
   "id": "88d4a572-b5b8-41d0-92d7-dbe96a5c826e",
   "metadata": {},
   "outputs": [],
   "source": [
    "#log label array\n",
    "lg2 = np.arange(min2,max2+1)\n",
    "lg4 = np.arange(1,max4+1)\n",
    "lg5 = np.arange(1,max5+1)\n",
    "\n",
    "FoursDF = []\n",
    "FivesDF = []\n",
    "TwosDF = []\n",
    "for i in lg2:\n",
    "    for j in lg4:\n",
    "        FoursDF.append(j)\n",
    "        TwosDF.append(i)\n",
    "\n",
    "    for j in lg5:\n",
    "        FivesDF.append(j)"
   ]
  },
  {
   "cell_type": "code",
   "execution_count": 6,
   "id": "22180e3f-e41b-4a51-bc6b-f8a47322908b",
   "metadata": {},
   "outputs": [],
   "source": [
    "df5 = pd.DataFrame({'log2':TwosDF, 'log5':FivesDF})\n",
    "df4 = pd.DataFrame({'log2':TwosDF, 'log4':FoursDF})"
   ]
  },
  {
   "cell_type": "markdown",
   "id": "a9503198-ea0d-4e19-869b-8c505787e346",
   "metadata": {},
   "source": [
    "*Start time testing*"
   ]
  },
  {
   "cell_type": "markdown",
   "id": "7433b407-b498-45a6-b3c9-b2a2abacf27e",
   "metadata": {},
   "source": [
    "*Fours*"
   ]
  },
  {
   "cell_type": "code",
   "execution_count": 7,
   "id": "9472aa88-f640-4507-abb9-40a788ff299c",
   "metadata": {},
   "outputs": [],
   "source": [
    "timefours = []\n",
    "timefoursStr = []\n",
    "timefoursnaive = []\n",
    "\n",
    "for i in range(len(Fours)):  \n",
    "    for j in Fours[i]:\n",
    "        #create matrixes\n",
    "        x = np.random.rand(j,j)\n",
    "        y = np.random.rand(j,j)\n",
    "        x = np.rint(x)\n",
    "        y = np.rint(y)\n",
    "        \n",
    "        #run code for alphatensor\n",
    "        cur = datetime.now()\n",
    "        at.matMul(x,y,True)\n",
    "        delta = datetime.now() - cur\n",
    "        timefours.append(delta)\n",
    "        \n",
    "        #run regular strassen\n",
    "        cur = datetime.now()\n",
    "        at.strassenInit(x.astype(bool),y.astype(bool),True)\n",
    "        delta = datetime.now() - cur\n",
    "        timefoursStr.append(delta)\n",
    "\n",
    "        #run regular naive\n",
    "        cur = datetime.now()\n",
    "        at.naiveSquare(x.astype(bool),y.astype(bool))\n",
    "        delta = datetime.now() - cur\n",
    "        timefoursnaive.append(delta)"
   ]
  },
  {
   "cell_type": "code",
   "execution_count": 23,
   "id": "906016e3-6d77-4560-9e9b-57b0b4f13c36",
   "metadata": {},
   "outputs": [
    {
     "name": "stdout",
     "output_type": "stream",
     "text": [
      "log4 saved to file\n"
     ]
    }
   ],
   "source": [
    "fourTimes = pd.DataFrame({'NaiveTimes':timefoursnaive,'StrassenTimes':timefoursStr,'AlphaTensor':timefours})\n",
    "\n",
    "fourTimes['NaiveTimes'] = fourTimes['NaiveTimes'].apply(lambda x: x.total_seconds())\n",
    "fourTimes['StrassenTimes'] = fourTimes['StrassenTimes'].apply(lambda x: x.total_seconds())\n",
    "fourTimes['AlphaTensor'] = fourTimes['AlphaTensor'].apply(lambda x: x.total_seconds())\n",
    "\n",
    "DF4 = pd.concat([fourTimes, df4], axis=1)\n",
    "DF4.to_csv(\"log4.csv\",index=False)\n",
    "\n",
    "print(\"log4 saved to file\")"
   ]
  },
  {
   "cell_type": "markdown",
   "id": "7ae2c621-a5e4-4d59-90d5-22beb0082608",
   "metadata": {},
   "source": [
    "*Fives*"
   ]
  },
  {
   "cell_type": "code",
   "execution_count": 10,
   "id": "6a3560e5-bf0e-48ca-bb57-5be6ea5d313e",
   "metadata": {},
   "outputs": [],
   "source": [
    "timefives = []\n",
    "timefivesStr = []\n",
    "timefivesnaive= []\n",
    "\n",
    "for i in range(len(Fives)):  \n",
    "    #do same for fives\n",
    "    for j in Fives[i]:\n",
    "        #create matrixes\n",
    "        x = np.random.randint(0,5,size=(j,j))\n",
    "        y = np.random.randint(0,5,size=(j,j))\n",
    "        \n",
    "        #run code for alphatensor\n",
    "        cur = datetime.now()\n",
    "        at.matMul(x,y,False)\n",
    "        delta = datetime.now() - cur\n",
    "        timefives.append(delta)\n",
    "        \n",
    "        #run regular strassen\n",
    "        cur = datetime.now()\n",
    "        at.strassenInit(x,y,False)\n",
    "        delta = datetime.now() - cur\n",
    "        timefivesStr.append(delta)\n",
    "\n",
    "        #run regular naive\n",
    "        cur = datetime.now()\n",
    "        x @ y\n",
    "        delta = datetime.now() - cur\n",
    "        timefivesnaive.append(delta)"
   ]
  },
  {
   "cell_type": "code",
   "execution_count": 25,
   "id": "c76d33d7-5197-4244-b8ec-dacdff1fcc2c",
   "metadata": {},
   "outputs": [
    {
     "name": "stdout",
     "output_type": "stream",
     "text": [
      "log5 saved to file\n"
     ]
    }
   ],
   "source": [
    "fivesTimes = pd.DataFrame({'NaiveTimes':timefivesnaive,'StrassenTimes':timefivesStr,'AlphaTensor':timefives})\n",
    "\n",
    "fivesTimes['NaiveTimes'] = fivesTimes['NaiveTimes'].apply(lambda x: x.total_seconds())\n",
    "fivesTimes['StrassenTimes'] = fivesTimes['StrassenTimes'].apply(lambda x: x.total_seconds())\n",
    "fivesTimes['AlphaTensor'] = fivesTimes['AlphaTensor'].apply(lambda x: x.total_seconds())\n",
    "\n",
    "DF5 = pd.concat([fivesTimes, df5], axis=1)\n",
    "DF5.to_csv(\"log5.csv\",index=False)\n",
    "\n",
    "print(\"log5 saved to file\")"
   ]
  },
  {
   "cell_type": "code",
   "execution_count": null,
   "id": "54ef4837-6fbb-458d-a442-c07430bc5eb7",
   "metadata": {},
   "outputs": [],
   "source": []
  }
 ],
 "metadata": {
  "kernelspec": {
   "display_name": "Python 3 (ipykernel)",
   "language": "python",
   "name": "python3"
  },
  "language_info": {
   "codemirror_mode": {
    "name": "ipython",
    "version": 3
   },
   "file_extension": ".py",
   "mimetype": "text/x-python",
   "name": "python",
   "nbconvert_exporter": "python",
   "pygments_lexer": "ipython3",
   "version": "3.12.1"
  }
 },
 "nbformat": 4,
 "nbformat_minor": 5
}
