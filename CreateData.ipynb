{
 "cells": [
  {
   "cell_type": "markdown",
   "id": "4103cd42-e482-4698-a199-628816368f3f",
   "metadata": {},
   "source": [
    "## COMPARING TIME OVER MATRIX SIZE GROWTH - CREATE DATASET"
   ]
  },
  {
   "cell_type": "markdown",
   "id": "f8582e41-4d9d-4658-b9ed-29abb2b2141e",
   "metadata": {},
   "source": [
    "*importing libraries*"
   ]
  },
  {
   "cell_type": "code",
   "execution_count": 5,
   "id": "7b3c1c7d-b8cb-408d-8cfd-0ebfa63c200f",
   "metadata": {},
   "outputs": [],
   "source": [
    "import numpy as np\n",
    "import alphatensoralgos as at\n",
    "from datetime import datetime\n",
    "import pandas as pd"
   ]
  },
  {
   "cell_type": "markdown",
   "id": "f4e3e939-2748-4a3c-b689-ece115008c80",
   "metadata": {},
   "source": [
    "*Constants*"
   ]
  },
  {
   "cell_type": "code",
   "execution_count": 6,
   "id": "a76c8d56-fccd-4abd-91de-6559dab9f5ae",
   "metadata": {},
   "outputs": [],
   "source": [
    "min2 = 1\n",
    "max2 = 4\n",
    "maxnums = 2"
   ]
  },
  {
   "cell_type": "markdown",
   "id": "00417a81-61a2-48c0-baea-3124da032f02",
   "metadata": {},
   "source": [
    "*Set dataset of numbers to test*"
   ]
  },
  {
   "cell_type": "code",
   "execution_count": 7,
   "id": "ef97931e-ee5e-4bfe-a698-3c158708a260",
   "metadata": {},
   "outputs": [],
   "source": [
    "two = 2 ** np.arange(min2,max2+1)\n",
    "four = 4 ** np.arange(1,maxnums+1)\n",
    "five = 5 ** np.arange(1,maxnums+1)\n",
    "three = 3 ** np.arange(1,maxnums+1)\n",
    "\n",
    "Fours = []\n",
    "Fives = []\n",
    "Threes = []\n",
    "\n",
    "for i in two:\n",
    "    fours = []\n",
    "    for j in four:\n",
    "        fours.append(i*j)\n",
    "    Fours.append(fours)\n",
    "\n",
    "    fives = []\n",
    "    for j in five:\n",
    "        fives.append(i*j)\n",
    "    Fives.append(fives)\n",
    "\n",
    "    threes = []\n",
    "    for j in three:\n",
    "        threes.append(i*j)\n",
    "    Threes.append(threes)"
   ]
  },
  {
   "cell_type": "code",
   "execution_count": 8,
   "id": "c46b7904-574f-4534-a5b1-008994a6ba94",
   "metadata": {},
   "outputs": [
    {
     "name": "stdout",
     "output_type": "stream",
     "text": [
      "[[8, 32], [16, 64], [32, 128], [64, 256]]\n",
      "[[10, 50], [20, 100], [40, 200], [80, 400]]\n",
      "[[6, 18], [12, 36], [24, 72], [48, 144]]\n"
     ]
    }
   ],
   "source": [
    "print(Fours)\n",
    "print(Fives)\n",
    "print(Threes)"
   ]
  },
  {
   "cell_type": "markdown",
   "id": "a93fab3e-a774-4386-9c0f-f35d91aff4a2",
   "metadata": {},
   "source": [
    "*labels for dataframe*"
   ]
  },
  {
   "cell_type": "code",
   "execution_count": 9,
   "id": "88d4a572-b5b8-41d0-92d7-dbe96a5c826e",
   "metadata": {},
   "outputs": [],
   "source": [
    "#log label array\n",
    "lg2 = np.arange(min2,max2+1)\n",
    "lg4 = np.arange(1,maxnums+1)\n",
    "lg5 = np.arange(1,maxnums+1)\n",
    "lg5mod2 = np.arange(1,maxnums+1)\n",
    "lg345 = np.arange(1,maxnums+1)\n",
    "lg445 = np.arange(1,maxnums+1)\n",
    "lg445mod2 = np.arange(1,maxnums+1)\n",
    "lg455 = np.arange(1,maxnums+1)\n",
    "\n",
    "df2 = []\n",
    "dflen = []\n",
    "for i in lg2:\n",
    "    for j in lg4:\n",
    "        dflen.append(j)\n",
    "        df2.append(i)"
   ]
  },
  {
   "cell_type": "code",
   "execution_count": 10,
   "id": "22180e3f-e41b-4a51-bc6b-f8a47322908b",
   "metadata": {},
   "outputs": [],
   "source": [
    "df5 = pd.DataFrame({'log2':df2, 'log5':dflen})\n",
    "df4 = pd.DataFrame({'log2':df2, 'log4':dflen})\n",
    "df345 = pd.DataFrame({'log2':df2, 'log345':dflen})\n",
    "df445 = pd.DataFrame({'log2':df2, 'log445':dflen})\n",
    "df455 = pd.DataFrame({'log2':df2, 'log455':dflen})"
   ]
  },
  {
   "cell_type": "markdown",
   "id": "a9503198-ea0d-4e19-869b-8c505787e346",
   "metadata": {},
   "source": [
    "*Start time testing*"
   ]
  },
  {
   "cell_type": "markdown",
   "id": "f3039071-31c1-492b-8d64-7212b2e3f54f",
   "metadata": {},
   "source": [
    "*mat345*"
   ]
  },
  {
   "cell_type": "code",
   "execution_count": 11,
   "id": "75255fc3-4878-4fe0-9f6b-8839f28d89a2",
   "metadata": {},
   "outputs": [
    {
     "name": "stdout",
     "output_type": "stream",
     "text": [
      "log345 saved to file\n"
     ]
    }
   ],
   "source": [
    "timeAt = []\n",
    "timeStr = []\n",
    "timeNaive = []\n",
    "\n",
    "for i in range(len(two)):  \n",
    "    for j in range(len(Threes[i])):\n",
    "        #create matrixes\n",
    "        x = Threes[i][j]\n",
    "        y = Fours[i][j]\n",
    "        z = Fives[i][j]\n",
    "        \n",
    "        a = np.random.randint(0,5,size=(x,y))\n",
    "        b = np.random.randint(0,5,size=(y,z))\n",
    "        \n",
    "        #run code for alphatensor\n",
    "        cur = datetime.now()\n",
    "        at.mat345(a,b,lg4[j])\n",
    "        delta = datetime.now() - cur\n",
    "        timeAt.append(delta)\n",
    "        \n",
    "        #run regular strassen\n",
    "        cur = datetime.now()\n",
    "        at.strassenInit(a,b,False)\n",
    "        delta = datetime.now() - cur\n",
    "        timeStr.append(delta)\n",
    "\n",
    "        #run regular naive\n",
    "        cur = datetime.now()\n",
    "        a @ b\n",
    "        delta = datetime.now() - cur\n",
    "        timeNaive.append(delta)\n",
    "\n",
    "times = pd.DataFrame({'NaiveTimes':timeNaive,'StrassenTimes':timeStr,'AlphaTensor':timeAt})\n",
    "\n",
    "times['NaiveTimes'] = times['NaiveTimes'].apply(lambda x: x.total_seconds())\n",
    "times['StrassenTimes'] = times['StrassenTimes'].apply(lambda x: x.total_seconds())\n",
    "times['AlphaTensor'] = times['AlphaTensor'].apply(lambda x: x.total_seconds())\n",
    "\n",
    "DF = pd.concat([times, df345], axis=1)\n",
    "DF.to_csv(\"log345.csv\",index=False)\n",
    "\n",
    "print(\"log345 saved to file\")"
   ]
  },
  {
   "cell_type": "markdown",
   "id": "f568b1cf-03de-4a85-808b-41d2ce4af312",
   "metadata": {},
   "source": [
    "*mat445*"
   ]
  },
  {
   "cell_type": "code",
   "execution_count": 12,
   "id": "d7c9ecc4-7406-4f9a-b327-1f99ba1c6fd4",
   "metadata": {},
   "outputs": [
    {
     "name": "stdout",
     "output_type": "stream",
     "text": [
      "log445 saved to file\n"
     ]
    }
   ],
   "source": [
    "timeAt = []\n",
    "timeStr = []\n",
    "timeNaive = []\n",
    "\n",
    "for i in range(len(two)):  \n",
    "    for j in range(len(Threes[i])):\n",
    "        #create matrixes\n",
    "        x = Fours[i][j]\n",
    "        y = Fours[i][j]\n",
    "        z = Fives[i][j]\n",
    "        a = np.random.randint(0,5,size=(x,y))\n",
    "        b = np.random.randint(0,5,size=(y,z))\n",
    "        \n",
    "        #run code for alphatensor\n",
    "        cur = datetime.now()\n",
    "        at.mat445(a,b,lg4[j])\n",
    "        delta = datetime.now() - cur\n",
    "        timeAt.append(delta)\n",
    "        \n",
    "        #run regular strassen\n",
    "        cur = datetime.now()\n",
    "        at.strassenInit(a,b,False)\n",
    "        delta = datetime.now() - cur\n",
    "        timeStr.append(delta)\n",
    "\n",
    "        #run regular naive\n",
    "        cur = datetime.now()\n",
    "        a @ b\n",
    "        delta = datetime.now() - cur\n",
    "        timeNaive.append(delta)\n",
    "\n",
    "times = pd.DataFrame({'NaiveTimes':timeNaive,'StrassenTimes':timeStr,'AlphaTensor':timeAt})\n",
    "\n",
    "times['NaiveTimes'] = times['NaiveTimes'].apply(lambda x: x.total_seconds())\n",
    "times['StrassenTimes'] = times['StrassenTimes'].apply(lambda x: x.total_seconds())\n",
    "times['AlphaTensor'] = times['AlphaTensor'].apply(lambda x: x.total_seconds())\n",
    "\n",
    "DF = pd.concat([times, df445], axis=1)\n",
    "DF.to_csv(\"log445.csv\",index=False)\n",
    "\n",
    "print(\"log445 saved to file\")"
   ]
  },
  {
   "cell_type": "markdown",
   "id": "864d95ed-7efb-45fa-b745-035d63bad458",
   "metadata": {},
   "source": [
    "*mat445mod2*"
   ]
  },
  {
   "cell_type": "code",
   "execution_count": 13,
   "id": "f2b6f49b-acda-4b61-a2da-f5002a30d3c2",
   "metadata": {},
   "outputs": [
    {
     "name": "stdout",
     "output_type": "stream",
     "text": [
      "log445mod2 saved to file\n"
     ]
    }
   ],
   "source": [
    "timeAt = []\n",
    "timeStr = []\n",
    "timeNaive = []\n",
    "\n",
    "for i in range(len(two)):  \n",
    "    for j in range(len(Threes[i])):\n",
    "        #create matrixes\n",
    "        x = Fours[i][j]\n",
    "        y = Fours[i][j]\n",
    "        z = Fives[i][j]\n",
    "        #create matrixes\n",
    "        a = np.random.rand(x,y)\n",
    "        b = np.random.rand(y,z)\n",
    "        a = np.rint(a)\n",
    "        b = np.rint(b)\n",
    "        \n",
    "        #run code for alphatensor\n",
    "        cur = datetime.now()\n",
    "        at.mat445mod2(a.astype(bool),b.astype(bool),lg4[j])\n",
    "        delta = datetime.now() - cur\n",
    "        timeAt.append(delta)\n",
    "        \n",
    "        #run regular strassen\n",
    "        cur = datetime.now()\n",
    "        at.strassenInit(a.astype(bool),b.astype(bool),True)\n",
    "        delta = datetime.now() - cur\n",
    "        timeStr.append(delta)\n",
    "\n",
    "        #run regular naive\n",
    "        cur = datetime.now()\n",
    "        at.naiveRect(a.astype(bool),b.astype(bool),len(a),len(b),len(b[0]))\n",
    "        delta = datetime.now() - cur\n",
    "        timeNaive.append(delta)\n",
    "\n",
    "times = pd.DataFrame({'NaiveTimes':timeNaive,'StrassenTimes':timeStr,'AlphaTensor':timeAt})\n",
    "\n",
    "times['NaiveTimes'] = times['NaiveTimes'].apply(lambda x: x.total_seconds())\n",
    "times['StrassenTimes'] = times['StrassenTimes'].apply(lambda x: x.total_seconds())\n",
    "times['AlphaTensor'] = times['AlphaTensor'].apply(lambda x: x.total_seconds())\n",
    "\n",
    "DF = pd.concat([times, df445], axis=1)\n",
    "DF.to_csv(\"log445mod2.csv\",index=False)\n",
    "\n",
    "print(\"log445mod2 saved to file\")"
   ]
  },
  {
   "cell_type": "markdown",
   "id": "f8e1a912-8dfd-4dd2-9d68-fcceab89cc23",
   "metadata": {},
   "source": [
    "*mat455*"
   ]
  },
  {
   "cell_type": "code",
   "execution_count": 14,
   "id": "cb8985cd-0ac9-46dd-9227-f99cefb96359",
   "metadata": {},
   "outputs": [
    {
     "name": "stdout",
     "output_type": "stream",
     "text": [
      "log455 saved to file\n"
     ]
    }
   ],
   "source": [
    "timeAt = []\n",
    "timeStr = []\n",
    "timeNaive = []\n",
    "\n",
    "for i in range(len(two)):  \n",
    "    for j in range(len(Threes[i])):\n",
    "        #create matrixes\n",
    "        x = Fours[i][j]\n",
    "        y = Fives[i][j]\n",
    "        z = Fives[i][j]\n",
    "        a = np.random.randint(0,5,size=(x,y))\n",
    "        b = np.random.randint(0,5,size=(y,z))\n",
    "        a = np.rint(a)\n",
    "        b = np.rint(b)\n",
    "        \n",
    "        #run code for alphatensor\n",
    "        cur = datetime.now()\n",
    "        at.mat455(a,b,lg4[j])\n",
    "        delta = datetime.now() - cur\n",
    "        timeAt.append(delta)\n",
    "        \n",
    "        #run regular strassen\n",
    "        cur = datetime.now()\n",
    "        at.strassenInit(a,b,False)\n",
    "        delta = datetime.now() - cur\n",
    "        timeStr.append(delta)\n",
    "\n",
    "        #run regular naive\n",
    "        cur = datetime.now()\n",
    "        a @ b\n",
    "        delta = datetime.now() - cur\n",
    "        timeNaive.append(delta)\n",
    "\n",
    "times = pd.DataFrame({'NaiveTimes':timeNaive,'StrassenTimes':timeStr,'AlphaTensor':timeAt})\n",
    "\n",
    "times['NaiveTimes'] = times['NaiveTimes'].apply(lambda x: x.total_seconds())\n",
    "times['StrassenTimes'] = times['StrassenTimes'].apply(lambda x: x.total_seconds())\n",
    "times['AlphaTensor'] = times['AlphaTensor'].apply(lambda x: x.total_seconds())\n",
    "\n",
    "DF = pd.concat([times, df455], axis=1)\n",
    "DF.to_csv(\"log455.csv\",index=False)\n",
    "\n",
    "print(\"log455 saved to file\")"
   ]
  },
  {
   "cell_type": "markdown",
   "id": "4f9f1d8e-6fda-400e-9b9b-8eb00504ddec",
   "metadata": {},
   "source": [
    "*mat444mod2*"
   ]
  },
  {
   "cell_type": "code",
   "execution_count": 15,
   "id": "d9fe09e2-ec7f-4d22-8097-9d62024a77dc",
   "metadata": {},
   "outputs": [
    {
     "name": "stdout",
     "output_type": "stream",
     "text": [
      "log444mod2 saved to file\n"
     ]
    }
   ],
   "source": [
    "timeAt = []\n",
    "timeStr = []\n",
    "timeNaive = []\n",
    "\n",
    "for i in range(len(two)):  \n",
    "    for j in range(len(Fours[i])):\n",
    "        #create matrixes\n",
    "        k = Fours[i][j]\n",
    "        x = np.random.rand(k,k)\n",
    "        y = np.random.rand(k,k)\n",
    "        x = np.rint(x)\n",
    "        y = np.rint(y)\n",
    "        \n",
    "        #run code for alphatensor\n",
    "        cur = datetime.now()\n",
    "        at.mat444mod2(x.astype(bool),y.astype(bool),lg4[j])\n",
    "        delta = datetime.now() - cur\n",
    "        timeAt.append(delta)\n",
    "        \n",
    "        #run regular strassen\n",
    "        cur = datetime.now()\n",
    "        at.strassenInit(x.astype(bool),y.astype(bool),True)\n",
    "        delta = datetime.now() - cur\n",
    "        timeStr.append(delta)\n",
    "\n",
    "        #run regular naive\n",
    "        cur = datetime.now()\n",
    "        at.naiveSquare(x.astype(bool),y.astype(bool))\n",
    "        delta = datetime.now() - cur\n",
    "        timeNaive.append(delta)\n",
    "\n",
    "times = pd.DataFrame({'NaiveTimes':timeNaive,'StrassenTimes':timeStr,'AlphaTensor':timeAt})\n",
    "\n",
    "times['NaiveTimes'] = times['NaiveTimes'].apply(lambda x: x.total_seconds())\n",
    "times['StrassenTimes'] = times['StrassenTimes'].apply(lambda x: x.total_seconds())\n",
    "times['AlphaTensor'] = times['AlphaTensor'].apply(lambda x: x.total_seconds())\n",
    "\n",
    "DF = pd.concat([times, df4], axis=1)\n",
    "DF.to_csv(\"log444mod2.csv\",index=False)\n",
    "\n",
    "print(\"log444mod2 saved to file\")"
   ]
  },
  {
   "cell_type": "markdown",
   "id": "034d7f03-a41c-4419-9ba5-da4352ffbd6a",
   "metadata": {},
   "source": [
    "*mat555*"
   ]
  },
  {
   "cell_type": "code",
   "execution_count": 16,
   "id": "5594a633-e03c-4cfe-a0f1-7111499f9121",
   "metadata": {},
   "outputs": [
    {
     "name": "stdout",
     "output_type": "stream",
     "text": [
      "log555 saved to file\n"
     ]
    }
   ],
   "source": [
    "timeAt = []\n",
    "timeStr = []\n",
    "timeNaive= []\n",
    "\n",
    "for i in range(len(Fives)):  \n",
    "    #do same for fives\n",
    "    for j in range(len(Fives[i])):\n",
    "        #create matrixes\n",
    "        k = Fives[i][j]\n",
    "        x = np.random.randint(0,5,size=(k,k))\n",
    "        y = np.random.randint(0,5,size=(k,k))\n",
    "        \n",
    "        #run code for alphatensor\n",
    "        cur = datetime.now()\n",
    "        at.mat555(x,y,lg4[j])\n",
    "        delta = datetime.now() - cur\n",
    "        timeAt.append(delta)\n",
    "        \n",
    "        #run regular strassen\n",
    "        cur = datetime.now()\n",
    "        at.strassenInit(x,y,False)\n",
    "        delta = datetime.now() - cur\n",
    "        timeStr.append(delta)\n",
    "\n",
    "        #run regular naive\n",
    "        cur = datetime.now()\n",
    "        x @ y\n",
    "        delta = datetime.now() - cur\n",
    "        timeNaive.append(delta)\n",
    "\n",
    "times = pd.DataFrame({'NaiveTimes':timeNaive,'StrassenTimes':timeStr,'AlphaTensor':timeAt})\n",
    "\n",
    "times['NaiveTimes'] = times['NaiveTimes'].apply(lambda x: x.total_seconds())\n",
    "times['StrassenTimes'] = times['StrassenTimes'].apply(lambda x: x.total_seconds())\n",
    "times['AlphaTensor'] = times['AlphaTensor'].apply(lambda x: x.total_seconds())\n",
    "\n",
    "DF = pd.concat([times, df5], axis=1)\n",
    "DF.to_csv(\"log555.csv\",index=False)\n",
    "\n",
    "print(\"log555 saved to file\")"
   ]
  },
  {
   "cell_type": "markdown",
   "id": "df8a6e10-a19c-4054-9d84-50f7230d796e",
   "metadata": {},
   "source": [
    "*mat555mod2*"
   ]
  },
  {
   "cell_type": "code",
   "execution_count": 17,
   "id": "6d115780-136a-4339-9951-6af9e76235f0",
   "metadata": {},
   "outputs": [
    {
     "name": "stdout",
     "output_type": "stream",
     "text": [
      "log555mod2 saved to file\n"
     ]
    }
   ],
   "source": [
    "timeAt = []\n",
    "timeStr = []\n",
    "timeNaive = []\n",
    "\n",
    "for i in range(len(two)):  \n",
    "   for j in range(len(Fives[i])):\n",
    "        #create matrixes\n",
    "        k = Fives[i][j]\n",
    "        x = np.random.rand(k,k)\n",
    "        y = np.random.rand(k,k)\n",
    "        x = np.rint(x)\n",
    "        y = np.rint(y)\n",
    "        \n",
    "        #run code for alphatensor\n",
    "        cur = datetime.now()\n",
    "        at.mat555mod2(x.astype(bool),y.astype(bool),lg4[j])\n",
    "        delta = datetime.now() - cur\n",
    "        timeAt.append(delta)\n",
    "        \n",
    "        #run regular strassen\n",
    "        cur = datetime.now()\n",
    "        at.strassenInit(x.astype(bool),y.astype(bool),True)\n",
    "        delta = datetime.now() - cur\n",
    "        timeStr.append(delta)\n",
    "\n",
    "        #run regular naive\n",
    "        cur = datetime.now()\n",
    "        at.naiveSquare(x.astype(bool),y.astype(bool))\n",
    "        delta = datetime.now() - cur\n",
    "        timeNaive.append(delta)\n",
    "\n",
    "times = pd.DataFrame({'NaiveTimes':timeNaive,'StrassenTimes':timeStr,'AlphaTensor':timeAt})\n",
    "\n",
    "times['NaiveTimes'] = times['NaiveTimes'].apply(lambda x: x.total_seconds())\n",
    "times['StrassenTimes'] = times['StrassenTimes'].apply(lambda x: x.total_seconds())\n",
    "times['AlphaTensor'] = times['AlphaTensor'].apply(lambda x: x.total_seconds())\n",
    "\n",
    "DF = pd.concat([times, df5], axis=1)\n",
    "DF.to_csv(\"log555mod2.csv\",index=False)\n",
    "\n",
    "print(\"log555mod2 saved to file\")"
   ]
  },
  {
   "cell_type": "code",
   "execution_count": 18,
   "id": "54ef4837-6fbb-458d-a442-c07430bc5eb7",
   "metadata": {},
   "outputs": [
    {
     "name": "stdout",
     "output_type": "stream",
     "text": [
      "All times saved succesfully.\n"
     ]
    }
   ],
   "source": [
    "print(\"All times saved succesfully.\")"
   ]
  }
 ],
 "metadata": {
  "kernelspec": {
   "display_name": "Python 3 (ipykernel)",
   "language": "python",
   "name": "python3"
  },
  "language_info": {
   "codemirror_mode": {
    "name": "ipython",
    "version": 3
   },
   "file_extension": ".py",
   "mimetype": "text/x-python",
   "name": "python",
   "nbconvert_exporter": "python",
   "pygments_lexer": "ipython3",
   "version": "3.12.1"
  }
 },
 "nbformat": 4,
 "nbformat_minor": 5
}
